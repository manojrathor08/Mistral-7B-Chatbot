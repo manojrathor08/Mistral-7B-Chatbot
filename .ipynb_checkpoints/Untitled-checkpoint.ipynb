{
 "cells": [
  {
   "cell_type": "markdown",
   "id": "b8821091-75b2-43f9-87aa-e3addb3de017",
   "metadata": {
    "tags": []
   },
   "source": [
    "##### import random\n",
    "import time\n",
    "def get_random_number():\n",
    "    return random.randint(1, 100)\n",
    "number = get_random_number()\n",
    "attempts = 0\n",
    "while True:\n",
    "    attempts += 1\n",
    "    guess = int(input(\"Guess the number (1-100): \"))\n",
    "    if guess == number:\n",
    "        print(\"Congratulations, you guessed the number! It took you\", attempts, \"attempts.\")\n",
    "        break\n",
    "    elif guess < number:\n",
    "        print(\"Your guess is too low. Try again.\")\n",
    "    else:\n",
    "        print(\"Your guess is too high. Try again.\")\n",
    "    time.sleep(1)"
   ]
  },
  {
   "cell_type": "code",
   "execution_count": null,
   "id": "e09074a5-4a9c-4eb6-b350-da659314c93f",
   "metadata": {},
   "outputs": [],
   "source": []
  }
 ],
 "metadata": {
  "kernelspec": {
   "display_name": "Python 3 (ipykernel)",
   "language": "python",
   "name": "python3"
  },
  "language_info": {
   "codemirror_mode": {
    "name": "ipython",
    "version": 3
   },
   "file_extension": ".py",
   "mimetype": "text/x-python",
   "name": "python",
   "nbconvert_exporter": "python",
   "pygments_lexer": "ipython3",
   "version": "3.11.7"
  }
 },
 "nbformat": 4,
 "nbformat_minor": 5
}
